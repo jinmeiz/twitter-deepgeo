{
 "cells": [
  {
   "cell_type": "code",
   "execution_count": null,
   "metadata": {},
   "outputs": [],
   "source": [
    "\n"
   ]
  },
  {
   "cell_type": "code",
   "execution_count": 7,
   "metadata": {},
   "outputs": [
    {
     "name": "stdout",
     "output_type": "stream",
     "text": [
      "Loading train and valid labels...\n",
      "0 lines processed\r",
      "Loading train and valid data...\n",
      "0 lines processed\r"
     ]
    }
   ],
   "source": [
    "import config as cf\n",
    "from util import load_label, load_data\n",
    "\n",
    "print(\"Loading train and valid labels...\")\n",
    "# train_label = load_label(cf.train_label, cf)\n",
    "valid_label = load_label(cf.valid_label, cf)\n",
    "\n",
    "print(\"Loading train and valid data...\")\n",
    "# train_data = load_data(cf.train_data, train_label, True, cf)\n",
    "valid_data = load_data(cf.valid_data, valid_label, False, cf)"
   ]
  },
  {
   "cell_type": "code",
   "execution_count": 11,
   "metadata": {},
   "outputs": [
    {
     "data": {
      "text/plain": [
       "[{'day': 5,\n",
       "  'description': 'A career woman and also de tightest lady dat sings de tightest flows u ever hard.',\n",
       "  'id_str': '323096393520668672',\n",
       "  'location': 'Just by urside always',\n",
       "  'name': 'Hot_kokolatesharon',\n",
       "  'offset': 100.0,\n",
       "  'text': 'Whenever you feel weak, remember those who made you strong and whenever you start to doubt yourself remember those who believe in you.\"',\n",
       "  'time': 0.6472222222222223,\n",
       "  'timezone': '<unk>',\n",
       "  'usertime': 0.5888888888888889},\n",
       " {'day': 5,\n",
       "  'description': 'Entrepreneur.',\n",
       "  'id_str': '371125032858038272',\n",
       "  'location': '',\n",
       "  'name': 'Amar Rajpal',\n",
       "  'offset': 0.6730769230769231,\n",
       "  'text': \"Don't confuse your path with your destination. Just cause its stormy now doesn't mean your aren't headed for sunshine! #Boom\",\n",
       "  'time': 0.18125,\n",
       "  'timezone': 'Mumbai',\n",
       "  'usertime': 0.5840277777777778}]"
      ]
     },
     "execution_count": 11,
     "metadata": {},
     "output_type": "execute_result"
    }
   ],
   "source": [
    "valid_data[:2]"
   ]
  },
  {
   "cell_type": "code",
   "execution_count": 16,
   "metadata": {},
   "outputs": [
    {
     "name": "stdout",
     "output_type": "stream",
     "text": [
      "Collecting text vocab...\n",
      "Collecting time zone vocab...\n",
      "Collecting location vocab...\n",
      "Collecting description vocab...\n",
      "Collecting name vocab...\n",
      "Collecting class labels...\n"
     ]
    }
   ],
   "source": [
    "from util import get_vocab, get_classes\n",
    "\n",
    "train_data = valid_data\n",
    "train_label = valid_label\n",
    "\n",
    "#collect vocab and classes\n",
    "print(\"Collecting text vocab...\")\n",
    "vocabxid, idxvocab, _ = get_vocab(train_data, \"text\", \"char\", cf.word_minfreq)\n",
    "\n",
    "print(\"Collecting time zone vocab...\")\n",
    "tzxid, _, _ = get_vocab(train_data, \"timezone\", \"word\", 0)\n",
    "\n",
    "print(\"Collecting location vocab...\")\n",
    "locxid, _, _ = get_vocab(train_data, \"location\", \"char\", cf.word_minfreq)\n",
    "\n",
    "print(\"Collecting description vocab...\")\n",
    "descxid, _, _ = get_vocab(train_data, \"description\", \"char\", cf.word_minfreq)\n",
    "\n",
    "print(\"Collecting name vocab...\")\n",
    "namexid, _, _ = get_vocab(train_data, \"name\", \"char\", cf.word_minfreq)\n",
    "\n",
    "print(\"Collecting class labels...\")\n",
    "classes = get_classes(train_data, train_label)"
   ]
  },
  {
   "cell_type": "code",
   "execution_count": 25,
   "metadata": {},
   "outputs": [
    {
     "data": {
      "text/plain": [
       "118"
      ]
     },
     "execution_count": 25,
     "metadata": {},
     "output_type": "execute_result"
    }
   ],
   "source": [
    "len(tzxid)"
   ]
  },
  {
   "cell_type": "code",
   "execution_count": 28,
   "metadata": {},
   "outputs": [
    {
     "name": "stdout",
     "output_type": "stream",
     "text": [
      "Converting text to ids...\n",
      "0 instances processed\r"
     ]
    }
   ],
   "source": [
    "from util import clean_data\n",
    "\n",
    "print(\"Converting text to ids...\")\n",
    "valid_len_x, valid_miss_y, valid_len_loc, valid_len_desc, valid_len_name = clean_data(valid_data, valid_label, \\\n",
    "    vocabxid, tzxid, locxid, descxid, namexid, classes, cf)"
   ]
  },
  {
   "cell_type": "code",
   "execution_count": 33,
   "metadata": {},
   "outputs": [
    {
     "data": {
      "text/plain": [
       "7215"
      ]
     },
     "execution_count": 33,
     "metadata": {},
     "output_type": "execute_result"
    }
   ],
   "source": [
    "len(valid_len_x)"
   ]
  },
  {
   "cell_type": "code",
   "execution_count": 34,
   "metadata": {},
   "outputs": [
    {
     "data": {
      "text/plain": [
       "135"
      ]
     },
     "execution_count": 34,
     "metadata": {},
     "output_type": "execute_result"
    }
   ],
   "source": [
    "valid_len_x[0]"
   ]
  },
  {
   "cell_type": "code",
   "execution_count": 35,
   "metadata": {},
   "outputs": [
    {
     "name": "stdout",
     "output_type": "stream",
     "text": [
      "Sorting data based on tweet length...\n"
     ]
    }
   ],
   "source": [
    "print(\"Sorting data based on tweet length...\")\n",
    "valid_data = sorted(valid_data, key=lambda item: len(item[\"x\"]))"
   ]
  },
  {
   "cell_type": "code",
   "execution_count": null,
   "metadata": {},
   "outputs": [],
   "source": []
  }
 ],
 "metadata": {
  "kernelspec": {
   "display_name": "Python 3",
   "language": "python",
   "name": "python3"
  },
  "language_info": {
   "codemirror_mode": {
    "name": "ipython",
    "version": 3
   },
   "file_extension": ".py",
   "mimetype": "text/x-python",
   "name": "python",
   "nbconvert_exporter": "python",
   "pygments_lexer": "ipython3",
   "version": "3.6.7"
  },
  "toc": {
   "base_numbering": 1,
   "nav_menu": {},
   "number_sections": true,
   "sideBar": true,
   "skip_h1_title": false,
   "title_cell": "Table of Contents",
   "title_sidebar": "Contents",
   "toc_cell": false,
   "toc_position": {},
   "toc_section_display": true,
   "toc_window_display": false
  }
 },
 "nbformat": 4,
 "nbformat_minor": 2
}
